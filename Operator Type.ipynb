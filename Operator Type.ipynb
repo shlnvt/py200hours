{
 "cells": [
  {
   "cell_type": "markdown",
   "id": "996dc91c",
   "metadata": {},
   "source": [
    "**Credit: ISE-DSA 2022**"
   ]
  },
  {
   "cell_type": "markdown",
   "id": "24330281",
   "metadata": {},
   "source": [
    "# Arithmetic Operators\n",
    "\n",
    "are used to performing mathematical operations"
   ]
  },
  {
   "cell_type": "markdown",
   "id": "93e3c374",
   "metadata": {},
   "source": [
    "|Operator|Description|Example|\n",
    "|--------|-----------|-------|\n",
    "|+ (Addition)|Adds two operands|x + y|\n",
    "|- (Subtraction)|Subtracts two operands|x - y|\n",
    "|* (Multiplication)|Multiplies two operands|x * y|\n",
    "|/ (Division float)|Divides the first operand by the second|x / y|\n",
    "|//   (Division floor)|The division of operands where the result is the quotient in which the digits after the decimal point are removed. But if one of the operands is negative, the result is floored, i.e., rounded away from zero (towards negative infinity) −|x // y|\n",
    "|%  (Modulus)|Returns the remainder when the first operand is divided by the second|x % y|\n",
    "|**  (Exponent)|Performs exponential (power) calculation on operators|x ** y|"
   ]
  },
  {
   "cell_type": "code",
   "execution_count": 2,
   "id": "150cda83",
   "metadata": {},
   "outputs": [
    {
     "data": {
      "text/plain": [
       "1.1428571428571428"
      ]
     },
     "execution_count": 2,
     "metadata": {},
     "output_type": "execute_result"
    }
   ],
   "source": [
    "a = 8\n",
    "b = 7\n",
    "\n",
    "c = a / b\n",
    "c"
   ]
  },
  {
   "cell_type": "code",
   "execution_count": 11,
   "id": "96776a43",
   "metadata": {},
   "outputs": [
    {
     "data": {
      "text/plain": [
       "8"
      ]
     },
     "execution_count": 11,
     "metadata": {},
     "output_type": "execute_result"
    }
   ],
   "source": [
    "round(a,3)"
   ]
  },
  {
   "cell_type": "code",
   "execution_count": 13,
   "id": "15831911",
   "metadata": {},
   "outputs": [
    {
     "data": {
      "text/plain": [
       "1.143"
      ]
     },
     "execution_count": 13,
     "metadata": {},
     "output_type": "execute_result"
    }
   ],
   "source": [
    "e = round(c,2)\n",
    "e"
   ]
  },
  {
   "cell_type": "code",
   "execution_count": 4,
   "id": "1c641d36",
   "metadata": {},
   "outputs": [
    {
     "name": "stdout",
     "output_type": "stream",
     "text": [
      "3\n"
     ]
    }
   ],
   "source": [
    "var_1 = 80\n",
    "var_2 = 25\n",
    "\n",
    "print(var_1 // var_2)"
   ]
  },
  {
   "cell_type": "code",
   "execution_count": 8,
   "id": "3eec5e35",
   "metadata": {},
   "outputs": [
    {
     "data": {
      "text/plain": [
       "4"
      ]
     },
     "execution_count": 8,
     "metadata": {},
     "output_type": "execute_result"
    }
   ],
   "source": [
    "64 % 5"
   ]
  },
  {
   "cell_type": "code",
   "execution_count": 22,
   "id": "67ec1582",
   "metadata": {},
   "outputs": [
    {
     "name": "stdout",
     "output_type": "stream",
     "text": [
      "Masukkan berat badan (dalam kg):90\n",
      "Masukkan tinggi badan (dalam cm):198\n",
      "Kebutuhan harian air minum jika berat badan 90.0 dan tinggi badan anda 198.0 yaitu sebesar 41.2632 liter\n"
     ]
    }
   ],
   "source": [
    "weight = float(input('Masukkan berat badan (dalam kg):'))\n",
    "height = float(input('Masukkan tinggi badan (dalam cm):'))\n",
    "liters_need = -2.097 + (0.1069 * height) + (0.2466 * weight)\n",
    "\n",
    "print(f\"Kebutuhan harian air minum jika berat badan {weight} dan tinggi badan anda {height} yaitu sebesar {liters_need} liter\")"
   ]
  },
  {
   "cell_type": "code",
   "execution_count": 29,
   "id": "d57dd7f4",
   "metadata": {},
   "outputs": [],
   "source": [
    "def liters_need(height, weight):\n",
    "    return -2.097 + (0.1069 * height) + (0.2466 * weight)"
   ]
  },
  {
   "cell_type": "code",
   "execution_count": 30,
   "id": "ef93a665",
   "metadata": {},
   "outputs": [
    {
     "data": {
      "text/plain": [
       "53.892100000000006"
      ]
     },
     "execution_count": 30,
     "metadata": {},
     "output_type": "execute_result"
    }
   ],
   "source": [
    "liters_need(67,198)"
   ]
  },
  {
   "cell_type": "markdown",
   "id": "9c9800cc",
   "metadata": {},
   "source": [
    "# Comparison Operators\n",
    "\n",
    "are used to compares the values, it will either returns True or False according to the condition."
   ]
  },
  {
   "cell_type": "markdown",
   "id": "34a4d5b8",
   "metadata": {},
   "source": [
    "|Operator|Description|Example|\n",
    "|--------|-----------|-------|\n",
    "|> (Greater than)|If the value of left operand is greater than the value of right operand, then condition becomes true|x > y|\n",
    "|< (Less than)|If the value of left operand is less than the value of right operand, then condition becomes true|x < y|\n",
    "|== (Equal to)|If the values of two operands are equal, then the condition becomes true|x == y|\n",
    "|!= (Not equal to)|If values of two operands are not equal, then condition becomes true|x != y|\n",
    "|>= (Greater than or equal to)|If the value of left operand is greater than or equal to the value of right operand, then condition becomes true|x >= y|\n",
    "|<= (Less than or equal to)|If the value of left operand is less than or equal to the value of right operand, then condition becomes true|x <= y|"
   ]
  },
  {
   "cell_type": "code",
   "execution_count": null,
   "id": "025d870f",
   "metadata": {},
   "outputs": [],
   "source": []
  },
  {
   "cell_type": "markdown",
   "id": "0d33297a",
   "metadata": {},
   "source": [
    "# Logical Operators\n",
    "\n",
    "will performing Logical AND, Logical OR, and Logical NOT operations."
   ]
  },
  {
   "cell_type": "markdown",
   "id": "c3961ff6",
   "metadata": {},
   "source": [
    "|Operator|Description|Example|\n",
    "|--------|-----------|-------|\n",
    "|And|True if both the operands are true|x and y|\n",
    "|Or|True if either of the operands is true|x or y|\n",
    "|Not|True if the operand is false|not x|"
   ]
  },
  {
   "cell_type": "code",
   "execution_count": null,
   "id": "43f4cbf2",
   "metadata": {},
   "outputs": [],
   "source": []
  },
  {
   "cell_type": "markdown",
   "id": "0b1da60c",
   "metadata": {},
   "source": [
    "# Assignment Operators\n",
    "\n",
    "are used to assign values to the variables"
   ]
  },
  {
   "cell_type": "markdown",
   "id": "563511fd",
   "metadata": {},
   "source": [
    "|Operator|Description|Example|\n",
    "|--------|-----------|-------|\n",
    "|=|Assign the value of right side of expression to left side operand |x = y+z|\n",
    "|+= (Add AND)|Add right-side operand with left side operand and then assign to left operand|a+=b, a=a+b|\n",
    "|-= (Subtract AND)|Subtract right operand from left operand and then assign to left operand|a-=b, a=a-b|\n",
    "|*= (Multiply AND)|Multiply right operand with left operand and then assign to left operand|a* = b, a=a*b|\n",
    "|/= (Divide AND)|Divide left operand with right operand and then assign to left operand|a/=b, a=a/b|\n",
    "|%= (Modulus AND)|Takes modulus using left and right operands and assigns the result to left operand|a%=b, a=a%b|\n",
    "|//= (Divide floor AND)|Divide left operand with right operand and then assign the value(floor) to left operand|a//=b, a=a//b|\n",
    "|**= (Exponent AND)|Calculate exponent(raise power) value using operands and assign value to left operand|a**=b, a=a**b|\n",
    "|&= (Bitwise AND)|Performs Bitwise AND on operands and assign value to left operand|a&=b, a=a&b|\n",
    "||= (Bitwise OR)|"
   ]
  },
  {
   "cell_type": "code",
   "execution_count": null,
   "id": "4c966fa5",
   "metadata": {},
   "outputs": [],
   "source": []
  },
  {
   "cell_type": "markdown",
   "id": "bf668ae4",
   "metadata": {},
   "source": [
    "# Identity Operators\n",
    "\n",
    "compare the memory locations of two objects. `is` and `is not` are the identity operators both are used to check if two values are located on the same part of the memory. Two variables that are equal do not imply that they are identical."
   ]
  },
  {
   "cell_type": "markdown",
   "id": "73de0749",
   "metadata": {},
   "source": [
    "|Operator|Description|Example|\n",
    "|--------|-----------|-------|\n",
    "|is|Evaluates to true if the variables on either side of the operator point to the same object and false otherwise|x is y, here is results in 1 if id(x) equals id(y)|\n",
    "|is not|Evaluates to false if the variables on either side of the operator point to the same object and true otherwise | x is not y, here is not results in 1 if id(x) is not equal to id|"
   ]
  },
  {
   "cell_type": "code",
   "execution_count": null,
   "id": "65973214",
   "metadata": {},
   "outputs": [],
   "source": []
  },
  {
   "cell_type": "markdown",
   "id": "f4853f8e",
   "metadata": {},
   "source": [
    "# Membership Operators"
   ]
  },
  {
   "cell_type": "markdown",
   "id": "4a27776d",
   "metadata": {},
   "source": [
    "|Operator|Description|Example|\n",
    "|--------|-----------|-------|\n",
    "|in|Evaluates to true if it finds a variable in the specified sequence and false otherwise|x in y, here in results in a 1 if x is a member of sequence y|\n",
    "|not in|Evaluates to true if it does not find a variable in the specified sequence and false otherwise|x not in y, here not in results in a 1 if x is not a member of sequence y|"
   ]
  },
  {
   "cell_type": "code",
   "execution_count": null,
   "id": "cc3494f0",
   "metadata": {},
   "outputs": [],
   "source": []
  },
  {
   "cell_type": "markdown",
   "id": "f7b23c19",
   "metadata": {},
   "source": [
    "https://www.petanikode.com/python-operator/\n",
    "\n",
    "# Bitwise Operators"
   ]
  },
  {
   "cell_type": "code",
   "execution_count": null,
   "id": "fe205810",
   "metadata": {},
   "outputs": [],
   "source": []
  },
  {
   "cell_type": "markdown",
   "id": "22bc96e5",
   "metadata": {},
   "source": [
    "# Ternary Operators"
   ]
  },
  {
   "cell_type": "code",
   "execution_count": null,
   "id": "0e75bce3",
   "metadata": {},
   "outputs": [],
   "source": []
  }
 ],
 "metadata": {
  "kernelspec": {
   "display_name": "Python 3 (ipykernel)",
   "language": "python",
   "name": "python3"
  },
  "language_info": {
   "codemirror_mode": {
    "name": "ipython",
    "version": 3
   },
   "file_extension": ".py",
   "mimetype": "text/x-python",
   "name": "python",
   "nbconvert_exporter": "python",
   "pygments_lexer": "ipython3",
   "version": "3.10.9"
  }
 },
 "nbformat": 4,
 "nbformat_minor": 5
}
