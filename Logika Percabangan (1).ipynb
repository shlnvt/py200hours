{
 "cells": [
  {
   "cell_type": "code",
   "execution_count": 8,
   "id": "f5112e55-9d50-4cef-9cdf-ea0d8c2f22d0",
   "metadata": {},
   "outputs": [
    {
     "name": "stdin",
     "output_type": "stream",
     "text": [
      "Total Belanja: Rp  120000\n"
     ]
    }
   ],
   "source": [
    "total_belanja_str = input(\"Total Belanja: Rp \")\n",
    "total_belanja = int(total_belanja_str)\n",
    "\n",
    "# jumlah yang harus dibayar adalah berapa total belanjaannya\n",
    "# tapi kalau dapat diskon akan berkurang\n",
    "\n",
    "bayar = total_belanja"
   ]
  },
  {
   "cell_type": "code",
   "execution_count": 9,
   "id": "0c423e9b-0dc7-4c96-b931-43f65a3a90d8",
   "metadata": {},
   "outputs": [
    {
     "name": "stdout",
     "output_type": "stream",
     "text": [
      "Kamu mendapatkan bonus minuman dingin\n",
      "dan diskon 5%\n"
     ]
    }
   ],
   "source": [
    "# jika dia belanja diatas Rp 100.000, maka berikan bonus dan diskon\n",
    "if total_belanja > 100000:\n",
    "    print(\"Kamu mendapatkan bonus minuman dingin\")\n",
    "    print(\"dan diskon 5%\")"
   ]
  },
  {
   "cell_type": "code",
   "execution_count": 10,
   "id": "2ac37a69-51f3-45f7-9e8a-13b2c06835a1",
   "metadata": {},
   "outputs": [],
   "source": [
    "# dan hitung diskonnya\n",
    "diskon = total_belanja * 5 / 100 # 5%\n",
    "bayar = total_belanja - diskon"
   ]
  },
  {
   "cell_type": "code",
   "execution_count": 12,
   "id": "40d42e79-0d66-4a7e-b997-41fb797aa723",
   "metadata": {},
   "outputs": [
    {
     "name": "stdout",
     "output_type": "stream",
     "text": [
      "Total yang harus dibayar: Rp 114000.0\n",
      "Terima kasih sudah berbelanja\n",
      "Datang lagi ya...\n"
     ]
    }
   ],
   "source": [
    "# cetak struk\n",
    "print(\"Total yang harus dibayar: Rp %s\"%bayar)\n",
    "print(\"Terima kasih sudah berbelanja\")\n",
    "print(\"Datang lagi ya...\")"
   ]
  },
  {
   "cell_type": "markdown",
   "id": "9abbc491-8781-4174-9c3d-9311fb11bb0b",
   "metadata": {},
   "source": [
    "## Struktur Percabangan IF"
   ]
  },
  {
   "cell_type": "code",
   "execution_count": 13,
   "id": "aa1d07d0-51e4-4521-a8d4-1a9444432b7a",
   "metadata": {},
   "outputs": [
    {
     "ename": "NameError",
     "evalue": "name 'lulus' is not defined",
     "output_type": "error",
     "traceback": [
      "\u001b[1;31m---------------------------------------------------------------------------\u001b[0m",
      "\u001b[1;31mNameError\u001b[0m                                 Traceback (most recent call last)",
      "Cell \u001b[1;32mIn[13], line 1\u001b[0m\n\u001b[1;32m----> 1\u001b[0m \u001b[38;5;28;01mif\u001b[39;00m \u001b[43mlulus\u001b[49m \u001b[38;5;241m==\u001b[39m \u001b[38;5;124m\"\u001b[39m\u001b[38;5;124mtidak\u001b[39m\u001b[38;5;124m\"\u001b[39m:\n\u001b[0;32m      2\u001b[0m     \u001b[38;5;28mprint\u001b[39m(\u001b[38;5;124m\"\u001b[39m\u001b[38;5;124mKamu harus ikut remidi\u001b[39m\u001b[38;5;124m\"\u001b[39m)\n",
      "\u001b[1;31mNameError\u001b[0m: name 'lulus' is not defined"
     ]
    }
   ],
   "source": [
    "if lulus == \"tidak\":\n",
    "    print(\"Kamu harus ikut remidi\")"
   ]
  },
  {
   "cell_type": "code",
   "execution_count": 21,
   "id": "aa47ef76-37b5-444e-9688-5abb4fb1afe4",
   "metadata": {},
   "outputs": [
    {
     "name": "stdin",
     "output_type": "stream",
     "text": [
      "Apakah kamu lulus? [ya/tidak]:  tidak\n"
     ]
    },
    {
     "name": "stdout",
     "output_type": "stream",
     "text": [
      "Kamu harus ikut remidi\n"
     ]
    }
   ],
   "source": [
    "# lulus.py\n",
    "\n",
    "lulus = input(\"Apakah kamu lulus? [ya/tidak]: \")\n",
    "\n",
    "if lulus == \"tidak\":\n",
    "    print(\"Kamu harus ikut remidi\")"
   ]
  },
  {
   "cell_type": "markdown",
   "id": "ab003c97-16c6-48a8-a7c2-2f23cfce3dcc",
   "metadata": {},
   "source": [
    "## Percabangan If/Else"
   ]
  },
  {
   "cell_type": "code",
   "execution_count": 17,
   "id": "670deea1-5466-4a5e-bf2b-aa7b0e09a35c",
   "metadata": {},
   "outputs": [
    {
     "name": "stdin",
     "output_type": "stream",
     "text": [
      "Berapa umur kamu:  15\n"
     ]
    },
    {
     "name": "stdout",
     "output_type": "stream",
     "text": [
      "Kamu belum boleh membuat SIM\n"
     ]
    }
   ],
   "source": [
    "# cek umur\n",
    "\n",
    "umur = int(input(\"Berapa umur kamu: \"))\n",
    "\n",
    "if umur >= 18:\n",
    "    print(\"Kamu boleh membuat SIM\")\n",
    "else:\n",
    "    print(\"Kamu belum boleh membuat SIM\")"
   ]
  },
  {
   "cell_type": "markdown",
   "id": "bf7723e4-e2d0-449a-a6b1-d4548d5f6380",
   "metadata": {},
   "source": [
    "## Percabangan If/Elif/Else"
   ]
  },
  {
   "cell_type": "code",
   "execution_count": 22,
   "id": "2f85df69-e95b-460e-a931-aaa77f8d48c3",
   "metadata": {},
   "outputs": [
    {
     "ename": "SyntaxError",
     "evalue": "invalid syntax (1638426209.py, line 4)",
     "output_type": "error",
     "traceback": [
      "\u001b[1;36m  Cell \u001b[1;32mIn[22], line 4\u001b[1;36m\u001b[0m\n\u001b[1;33m    maka ini\u001b[0m\n\u001b[1;37m         ^\u001b[0m\n\u001b[1;31mSyntaxError\u001b[0m\u001b[1;31m:\u001b[0m invalid syntax\n"
     ]
    }
   ],
   "source": [
    "# pemahaman\n",
    "\n",
    "if begini:\n",
    "    maka ini\n",
    "elif begitu:\n",
    "    maka itu\n",
    "else:\n",
    "    pokoknya gitu dah"
   ]
  },
  {
   "cell_type": "code",
   "execution_count": 24,
   "id": "117e76e2-4498-440d-8895-0a8aaa854474",
   "metadata": {},
   "outputs": [
    {
     "name": "stdin",
     "output_type": "stream",
     "text": [
      "Inputkan nilaimu:  10\n"
     ]
    },
    {
     "name": "stdout",
     "output_type": "stream",
     "text": [
      "Grade: E\n"
     ]
    }
   ],
   "source": [
    "# grade nilai\n",
    "\n",
    "nilai = int(input(\"Inputkan nilaimu: \"))\n",
    "\n",
    "if nilai >= 90:\n",
    "    grade = \"A\"\n",
    "elif nilai >= 80:\n",
    "    grade = \"B+\"\n",
    "elif nilai >= 70:\n",
    "    grade = \"B\"\n",
    "elif nilai >= 60:\n",
    "    grade = \"C+\"\n",
    "elif nilai >= 50:\n",
    "    grade = \"C\"\n",
    "elif nilai >= 40:\n",
    "    grade = \"D\"\n",
    "else:\n",
    "    grade = \"E\"\n",
    "\n",
    "print(\"Grade: %s\" % grade)"
   ]
  },
  {
   "cell_type": "code",
   "execution_count": null,
   "id": "64992062-c876-45c9-8b52-885e3318f581",
   "metadata": {},
   "outputs": [],
   "source": []
  }
 ],
 "metadata": {
  "kernelspec": {
   "display_name": "Python 3 (ipykernel)",
   "language": "python",
   "name": "python3"
  },
  "language_info": {
   "codemirror_mode": {
    "name": "ipython",
    "version": 3
   },
   "file_extension": ".py",
   "mimetype": "text/x-python",
   "name": "python",
   "nbconvert_exporter": "python",
   "pygments_lexer": "ipython3",
   "version": "3.12.1"
  }
 },
 "nbformat": 4,
 "nbformat_minor": 5
}
